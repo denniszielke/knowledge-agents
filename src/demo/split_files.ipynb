{
 "cells": [
  {
   "cell_type": "code",
   "execution_count": 4,
   "metadata": {},
   "outputs": [
    {
     "name": "stdout",
     "output_type": "stream",
     "text": [
      "Directory '../../data/MDr_br141011_SR 0643_2' created successfully!\n"
     ]
    }
   ],
   "source": [
    "input_file = \"MDr_br141011_SR 0643_2.pdf\"\n",
    "input_folder = \"../../data/\"\n",
    "import sys, pymupdf \n",
    "import os\n",
    "from pathlib import Path\n",
    "\n",
    "file_path = input_folder + input_file\n",
    "file_name = Path(file_path).name.split(\".\")[0]\n",
    "\n",
    "# Define the name of the directory to be created\n",
    "directory = file_name\n",
    "new_folder = Path(input_folder + directory)\n",
    "\n",
    "# Create the directory\n",
    "os.makedirs(new_folder, exist_ok=True)\n",
    "\n",
    "print(f\"Directory '{new_folder}' created successfully!\")\n",
    "\n",
    "doc = pymupdf.open(file_path)  # open document\n",
    "for page in doc:  # iterate through the pages\n",
    "    pix = page.get_pixmap()  # render page to an image\n",
    "    pix.save(file_name+ \"-%i.png\" % page.number)  # store image as a PNG"
   ]
  }
 ],
 "metadata": {
  "kernelspec": {
   "display_name": "onthology-agent",
   "language": "python",
   "name": "python3"
  },
  "language_info": {
   "codemirror_mode": {
    "name": "ipython",
    "version": 3
   },
   "file_extension": ".py",
   "mimetype": "text/x-python",
   "name": "python",
   "nbconvert_exporter": "python",
   "pygments_lexer": "ipython3",
   "version": "3.12.9"
  }
 },
 "nbformat": 4,
 "nbformat_minor": 2
}
