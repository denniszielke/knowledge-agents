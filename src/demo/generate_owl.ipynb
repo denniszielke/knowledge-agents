{
 "cells": [
  {
   "cell_type": "code",
   "execution_count": 61,
   "metadata": {},
   "outputs": [
    {
     "data": {
      "text/plain": [
       "True"
      ]
     },
     "execution_count": 61,
     "metadata": {},
     "output_type": "execute_result"
    }
   ],
   "source": [
    "import os\n",
    "from io import StringIO\n",
    "import dotenv\n",
    "from azure.identity import DefaultAzureCredential, get_bearer_token_provider\n",
    "from langchain_openai import AzureChatOpenAI\n",
    "\n",
    "dotenv.load_dotenv()"
   ]
  },
  {
   "cell_type": "code",
   "execution_count": 62,
   "metadata": {},
   "outputs": [],
   "source": [
    "model: AzureChatOpenAI = None\n",
    "from langchain_core.messages import HumanMessage\n",
    "from langchain_openai import ChatOpenAI\n",
    "from langchain_core.prompts import ChatPromptTemplate\n",
    "\n",
    "system_prompt = \"\"\"\n",
    "You are an expert in ontology engineering. Generate an OWL ontology based on the following domain description:\n",
    "Define classes, data properties, and object properties.\n",
    "Include domain and range for each property.\n",
    "Provide the output in OWL (XML) format.\n",
    "IUPAC rules for source-based names of polymers specify that, when “poly” is followed by more than one word, parentheses are used. The IUPAC practice is followed in this International Standard.\n",
    "When a term has one or more synonyms, they follow the preferred term. The synonyms are listed in alphabetical order and need to be carried over to the OWL ontology.\n",
    "Make sure to also extract synonym and extract a boolean property if the indicated terms are deprecated.\n",
    "You should approach it first by looking at all the content and group the whole content into at most 100 topics. Then you should create a hierarchy of classes and properties according to common characteristics and properties for example for elements that are about composits, cold or cooling you should create a common class and then create subclasses for each of the terms.\n",
    "Some definitions in this International Standard begin with information in angled brackets. This has been added to indicate limitation of the definition to a particular field and needs to be highlighted in the OWL ontology.\n",
    "Structure the ontology in a way that is easy to understand and navigate using the existing terms and the new terms to specialize the ontology.\n",
    "Add the numeric value to the label of the class or property. Do not use any special characters in the label.\n",
    "You should group the terms into classes and properties according to their common characteristics and properties for example everything with FireTesting, Recyling, etc should be grouped into a class and then create subclasses for each of the terms.\n",
    "Add a hierarchy of classes and properties according to common characteristics and properties for example for elements that are about composits, cold or cooling you should create a common class and then create subclasses for each of the terms.\n",
    "Make sure to cary over the definitions, numerations and value ranges and add them to the ontology. You should avoid creating single top level elements in the hierary with no children. Make sure to create common classes and properties for the terms that are related to each other.\n",
    "Provide the output in OWL (XML) format and only output the ontology and nothing else while minimizing characters - do not add line breaks or comments.\n",
    "This is the content you should use as input:\"\"\"\n",
    "\n",
    "onthology_prompt = \"\"\"Here is the existing onthology. Please extend and restructure it according to the new input so that there more hierarchy levels and the new terms are added to the correct classes and properties. Please make sure to also add the synonyms, deprecated boolean property and the definitions to the ontology. Provide the output in OWL (XML) format and only output the ontology and nothing else while minimizing characters - do not add line breaks or comments.\"\"\""
   ]
  },
  {
   "cell_type": "code",
   "execution_count": 63,
   "metadata": {},
   "outputs": [],
   "source": [
    "token_provider = get_bearer_token_provider(DefaultAzureCredential(), \"https://cognitiveservices.azure.com/.default\")\n",
    "\n",
    "model = AzureChatOpenAI(\n",
    "        azure_endpoint=os.getenv(\"AZURE_OPENAI_ENDPOINT\"),\n",
    "        api_key=os.getenv(\"AZURE_OPENAI_API_KEY\"),\n",
    "        azure_deployment=os.getenv(\"AZURE_OPENAI_COMPLETION_DEPLOYMENT_NAME\"),\n",
    "        openai_api_version=os.getenv(\"AZURE_OPENAI_VERSION\"),\n",
    "        temperature=0\n",
    "    )\n",
    "\n",
    "reasoning_model = AzureChatOpenAI(\n",
    "        azure_endpoint=os.getenv(\"AZURE_OPENAI_ENDPOINT\"),\n",
    "        api_key=os.getenv(\"AZURE_OPENAI_API_KEY\"),\n",
    "        azure_deployment='o1-mini',\n",
    "        openai_api_version=os.getenv(\"AZURE_OPENAI_VERSION\"),\n",
    "        temperature=1\n",
    "    )"
   ]
  },
  {
   "cell_type": "code",
   "execution_count": 64,
   "metadata": {},
   "outputs": [
    {
     "name": "stdout",
     "output_type": "stream",
     "text": [
      "content='```xml\\n<rdf:RDF xmlns=\"http://www.w3.org/2002/07/owl#\" xml:base=\"http://www.example.org/ontology\" xmlns:rdf=\"http://www.w3.org/1999/02/22-rdf-syntax-ns#\" xmlns:rdfs=\"http://www.w3.org/2000/01/rdf-schema#\" xmlns:owl=\"http://www.w3.org/2002/07/owl#\" xmlns:xsd=\"http://www.w3.org/2001/XMLSchema#\">\\n<owl:Ontology rdf:about=\"http://www.example.org/ontology\"/>\\n<owl:Class rdf:about=\"http://www.example.org/ontology#Polymer\"/>\\n<owl:Class rdf:about=\"http://www.example.org/ontology#Plastic\"/>\\n<owl:Class rdf:about=\"http://www.example.org/ontology#Adhesive\"/>\\n<owl:Class rdf:about=\"http://www.example.org/ontology#FireTesting\"/>\\n<owl:Class rdf:about=\"http://www.example.org/ontology#Recycling\"/>\\n<owl:Class rdf:about=\"http://www.example.org/ontology#Composite\"/>\\n<owl:Class rdf:about=\"http://www.example.org/ontology#Thermoforming\"/>\\n<owl:Class rdf:about=\"http://www.example.org/ontology#Moulding\"/>\\n<owl:Class rdf:about=\"http://www.example.org/ontology#Testing\"/>\\n<owl:Class rdf:about=\"http://www.example.org/ontology#EnvironmentalImpact\"/>\\n<owl:Class rdf:about=\"http://www.example.org/ontology#Biodegradation\"/>\\n<owl:Class rdf:about=\"http://www.example.org/ontology#Polymerization\"/>\\n<owl:Class rdf:about=\"http://www.example.org/ontology#PolymerType\"/>\\n<owl:Class rdf:about=\"http://www.example.org/ontology#PolymerProperty\"/>\\n<owl:Class rdf:about=\"http://www.example.org/ontology#PolymerProcessing\"/>\\n<owl:Class rdf:about=\"http://www.example.org/ontology#PolymerStructure\"/>\\n<owl:Class rdf:about=\"http://www.example.org/ontology#PolymerApplication\"/>\\n<owl:Class rdf:about=\"http://www.example.org/ontology#PolymerTesting\"/>\\n<owl:Class rdf:about=\"http://www.example.org/ontology#PolymerRecycling\"/>\\n<owl:Class rdf:about=\"http://www.example.org/ontology#PolymerFireTesting\"/>\\n<owl:Class rdf:about=\"http://www.example.org/ontology#PolymerEnvironmentalImpact\"/>\\n<owl:Class rdf:about=\"http://www.example.org/ontology#PolymerBiodegradation\"/>\\n<owl:Class rdf:about=\"http://www.example.org/ontology#PolymerThermoforming\"/>\\n<owl:Class rdf:about=\"http://www.example.org/ontology#PolymerMoulding\"/>\\n<owl:Class rdf:about=\"http://www.example.org/ontology#PolymerAdhesive\"/>\\n<owl:Class rdf:about=\"http://www.example.org/ontology#PolymerComposite\"/>\\n<owl:Class rdf:about=\"http://www.example.org/ontology#PolymerPropertyType\"/>\\n<owl:Class rdf:about=\"http://www.example.org/ontology#PolymerProcessingType\"/>\\n<owl:Class rdf:about=\"http://www.example.org/ontology#PolymerStructureType\"/>\\n<owl:Class rdf:about=\"http://www.example.org/ontology#PolymerApplicationType\"/>\\n<owl:Class rdf:about=\"http://www.example.org/ontology#PolymerTestingType\"/>\\n<owl:Class rdf:about=\"http://www.example.org/ontology#PolymerRecyclingType\"/>\\n<owl:Class rdf:about=\"http://www.example.org/ontology#PolymerFireTestingType\"/>\\n<owl:Class rdf:about=\"http://www.example.org/ontology#PolymerEnvironmentalImpactType\"/>\\n<owl:Class rdf:about=\"http://www.example.org/ontology#PolymerBiodegradationType\"/>\\n<owl:Class rdf:about=\"http://www.example.org/ontology#PolymerThermoformingType\"/>\\n<owl:Class rdf:about=\"http://www.example.org/ontology#PolymerMouldingType\"/>\\n<owl:Class rdf:about=\"http://www.example.org/ontology#PolymerAdhesiveType\"/>\\n<owl:Class rdf:about=\"http://www.example.org/ontology#PolymerCompositeType\"/>\\n<owl:Class rdf:about=\"http://www.example.org/ontology#PolymerPropertyCharacteristic\"/>\\n<owl:Class rdf:about=\"http://www.example.org/ontology#PolymerProcessingCharacteristic\"/>\\n<owl:Class rdf:about=\"http://www.example.org/ontology#PolymerStructureCharacteristic\"/>\\n<owl:Class rdf:about=\"http://www.example.org/ontology#PolymerApplicationCharacteristic\"/>\\n<owl:Class rdf:about=\"http://www.example.org/ontology#PolymerTestingCharacteristic\"/>\\n<owl:Class rdf:about=\"http://www.example.org/ontology#PolymerRecyclingCharacteristic\"/>\\n<owl:Class rdf:about=\"http://www.example.org/ontology#PolymerFireTestingCharacteristic\"/>\\n<owl:Class rdf:about=\"http://www.example.org/ontology#PolymerEnvironmentalImpactCharacteristic\"/>\\n<owl:Class rdf:about=\"http://www.example.org/ontology#PolymerBiodegradationCharacteristic\"/>\\n<owl:Class rdf:about=\"http://www.example.org/ontology#PolymerThermoformingCharacteristic\"/>\\n<owl:Class rdf:about=\"http://www.example.org/ontology#PolymerMouldingCharacteristic\"/>\\n<owl:Class rdf:about=\"http://www.example.org/ontology#PolymerAdhesiveCharacteristic\"/>\\n<owl:Class rdf:about=\"http://www.example.org/ontology#PolymerCompositeCharacteristic\"/>\\n<owl:Class rdf:about=\"http://www.example.org/ontology#PolymerPropertyDefinition\"/>\\n<owl:Class rdf:about=\"http://www.example.org/ontology#PolymerProcessingDefinition\"/>\\n<owl:Class rdf:about=\"http://www.example.org/ontology#PolymerStructureDefinition\"/>\\n<owl:Class rdf:about=\"http://www.example.org/ontology#PolymerApplicationDefinition\"/>\\n<owl:Class rdf:about=\"http://www.example.org/ontology#PolymerTestingDefinition\"/>\\n<owl:Class rdf:about=\"http://www.example.org/ontology#PolymerRecyclingDefinition\"/>\\n<owl:Class rdf:about=\"http://www.example.org/ontology#PolymerFireTestingDefinition\"/>\\n<owl:Class rdf:about=\"http://www.example.org/ontology#PolymerEnvironmentalImpactDefinition\"/>\\n<owl:Class rdf:about=\"http://www.example.org/ontology#PolymerBiodegradationDefinition\"/>\\n<owl:Class rdf:about=\"http://www.example.org/ontology#PolymerThermoformingDefinition\"/>\\n<owl:Class rdf:about=\"http://www.example.org/ontology#PolymerMouldingDefinition\"/>\\n<owl:Class rdf:about=\"http://www.example.org/ontology#PolymerAdhesiveDefinition\"/>\\n<owl:Class rdf:about=\"http://www.example.org/ontology#PolymerCompositeDefinition\"/>\\n<owl:Class rdf:about=\"http://www.example.org/ontology#PolymerPropertySynonym\"/>\\n<owl:Class rdf:about=\"http://www.example.org/ontology#PolymerProcessingSynonym\"/>\\n<owl:Class rdf:about=\"http://www.example.org/ontology#PolymerStructureSynonym\"/>\\n<owl:Class rdf:about=\"http://www.example.org/ontology#PolymerApplicationSynonym\"/>\\n<owl:Class rdf:about=\"http://www.example.org/ontology#PolymerTestingSynonym\"/>\\n<owl:Class rdf:about=\"http://www.example.org/ontology#PolymerRecyclingSynonym\"/>\\n<owl:Class rdf:about=\"http://www.example.org/ontology#PolymerFireTestingSynonym\"/>\\n<owl:Class rdf:about=\"http://www.example.org/ontology#PolymerEnvironmentalImpactSynonym\"/>\\n<owl:Class rdf:about=\"http://www.example.org/ontology#PolymerBiodegradationSynonym\"/>\\n<owl:Class rdf:about=\"http://www.example.org/ontology#PolymerThermoformingSynonym\"/>\\n<owl:Class rdf:about=\"http://www.example.org/ontology#PolymerMouldingSynonym\"/>\\n<owl:Class rdf:about=\"http://www.example.org/ontology#PolymerAdhesiveSynonym\"/>\\n<owl:Class rdf:about=\"http://www.example.org/ontology#PolymerCompositeSynonym\"/>\\n<owl:Class rdf:about=\"http://www.example.org/ontology#PolymerPropertyDeprecated\"/>\\n<owl:Class rdf:about=\"http://www.example.org/ontology#PolymerProcessingDeprecated\"/>\\n<owl:Class rdf:about=\"http://www.example.org/ontology#PolymerStructureDeprecated\"/>\\n<owl:Class rdf:about=\"http://www.example.org/ontology#PolymerApplicationDeprecated\"/>\\n<owl:Class rdf:about=\"http://www.example.org/ontology#PolymerTestingDeprecated\"/>\\n<owl:Class rdf:about=\"http://www.example.org/ontology#PolymerRecyclingDeprecated\"/>\\n<owl:Class rdf:about=\"http://www.example.org/ontology#PolymerFireTestingDeprecated\"/>\\n<owl:Class rdf:about=\"http://www.example.org/ontology#PolymerEnvironmentalImpactDeprecated\"/>\\n<owl:Class rdf:about=\"http://www.example.org/ontology#PolymerBiodegradationDeprecated\"/>\\n<owl:Class rdf:about=\"http://www.example.org/ontology#PolymerThermoformingDeprecated\"/>\\n<owl:Class rdf:about=\"http://www.example.org/ontology#PolymerMouldingDeprecated\"/>\\n<owl:Class rdf:about=\"http://www.example.org/ontology#PolymerAdhesiveDeprecated\"/>\\n<owl:Class rdf:about=\"http://www.example.org/ontology#PolymerCompositeDeprecated\"/>\\n<owl:ObjectProperty rdf:about=\"http://www.example.org/ontology#hasSynonym\">\\n<rdfs:domain rdf:resource=\"http://www.example.org/ontology#Polymer\"/>\\n<rdfs:range rdf:resource=\"http://www.example.org/ontology#PolymerPropertySynonym\"/>\\n</owl:ObjectProperty>\\n<owl:ObjectProperty rdf:about=\"http://www.example.org/ontology#isDeprecated\">\\n<rdfs:domain rdf:resource=\"http://www.example.org/ontology#Polymer\"/>\\n<rdfs:range rdf:resource=\"http://www.w3.org/2001/XMLSchema#boolean\"/>\\n</owl:ObjectProperty>\\n<owl:DatatypeProperty rdf:about=\"http://www.example.org/ontology#hasDefinition\">\\n<rdfs:domain rdf:resource=\"http://www.example.org/ontology#Polymer\"/>\\n<rdfs:range rdf:resource=\"http://www.w3.org/2001/XMLSchema#string\"/>\\n</owl:DatatypeProperty>\\n<owl:DatatypeProperty rdf:about=\"http://www.example.org/ontology#hasLabel\">\\n<rdfs:domain rdf:resource=\"http://www.example.org/ontology#Polymer\"/>\\n<rdfs:range rdf:resource=\"http://www.w3.org/2001/XMLSchema#string\"/>\\n</owl:DatatypeProperty>\\n<owl:DatatypeProperty rdf:about=\"http://www.example.org/ontology#hasNumericValue\">\\n<rdfs:domain rdf:resource=\"http://www.example.org/ontology#Polymer\"/>\\n<rdfs:range rdf:resource=\"http://www.w3.org/2001/XMLSchema#integer\"/>\\n</owl:DatatypeProperty>\\n</rdf:RDF>\\n```' additional_kwargs={'refusal': None} response_metadata={'token_usage': {'completion_tokens': 2425, 'prompt_tokens': 66519, 'total_tokens': 68944, 'completion_tokens_details': {'accepted_prediction_tokens': 0, 'audio_tokens': 0, 'reasoning_tokens': 0, 'rejected_prediction_tokens': 0}, 'prompt_tokens_details': {'audio_tokens': 0, 'cached_tokens': 66304}}, 'model_name': 'gpt-4o-2024-08-06', 'system_fingerprint': 'fp_b705f0c291', 'prompt_filter_results': [{'prompt_index': 0, 'content_filter_results': {'hate': {'filtered': False, 'severity': 'safe'}, 'self_harm': {'filtered': False, 'severity': 'safe'}, 'sexual': {'filtered': False, 'severity': 'safe'}, 'violence': {'filtered': False, 'severity': 'safe'}}}], 'finish_reason': 'stop', 'logprobs': None, 'content_filter_results': {'hate': {'filtered': False, 'severity': 'safe'}, 'self_harm': {'filtered': False, 'severity': 'safe'}, 'sexual': {'filtered': False, 'severity': 'safe'}, 'violence': {'filtered': False, 'severity': 'safe'}}} id='run-0ca16b18-ce26-48f9-aa56-ce9d599c2aa4-0' usage_metadata={'input_tokens': 66519, 'output_tokens': 2425, 'total_tokens': 68944, 'input_token_details': {'audio': 0, 'cache_read': 66304}, 'output_token_details': {'audio': 0, 'reasoning': 0}}\n"
     ]
    }
   ],
   "source": [
    "image_path = \"../../data/iso_472_large.md\"\n",
    "onthology_file_path=\"onthology_iso_427_large.xml\"\n",
    "\n",
    "with open(image_path, \"r\") as file:\n",
    "    markdown = file.read()\n",
    "\n",
    "with open(onthology_file_path, \"r\") as file:\n",
    "    onthology = file.read()\n",
    "\n",
    "message = HumanMessage(\n",
    "    content=[\n",
    "        {\"type\": \"text\", \"text\": system_prompt + markdown + onthology_prompt + onthology},\n",
    "    ],\n",
    ")\n",
    "\n",
    "\n",
    "\n",
    "response = model.invoke([message])\n",
    "print(response)\n",
    "\n",
    "with open(onthology_file_path, \"w\") as file:\n",
    "    new_ontology = response.content.replace(\"```xml\", \"\").replace(\"```\", \"\")\n",
    "    file.write(new_ontology)"
   ]
  }
 ],
 "metadata": {
  "kernelspec": {
   "display_name": "onthology-agent",
   "language": "python",
   "name": "python3"
  },
  "language_info": {
   "codemirror_mode": {
    "name": "ipython",
    "version": 3
   },
   "file_extension": ".py",
   "mimetype": "text/x-python",
   "name": "python",
   "nbconvert_exporter": "python",
   "pygments_lexer": "ipython3",
   "version": "3.12.9"
  }
 },
 "nbformat": 4,
 "nbformat_minor": 2
}
